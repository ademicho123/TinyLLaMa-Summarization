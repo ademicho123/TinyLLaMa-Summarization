{
 "cells": [
  {
   "cell_type": "markdown",
   "metadata": {},
   "source": [
    "Text Summarization Model Training\n",
    "\n",
    "This notebook demonstrates the process of training a text summarization model using the provided dataset."
   ]
  },
  {
   "cell_type": "code",
   "execution_count": 1,
   "metadata": {},
   "outputs": [
    {
     "name": "stderr",
     "output_type": "stream",
     "text": [
      "c:\\Users\\ELITEBOOK\\OneDrive\\Desktop\\Projects\\TinyLLaMa-Summarization\\myenv\\Lib\\site-packages\\tqdm\\auto.py:21: TqdmWarning: IProgress not found. Please update jupyter and ipywidgets. See https://ipywidgets.readthedocs.io/en/stable/user_install.html\n",
      "  from .autonotebook import tqdm as notebook_tqdm\n"
     ]
    }
   ],
   "source": [
    "# imports\n",
    "import pandas as pd\n",
    "import numpy as np\n",
    "import matplotlib.pyplot as plt\n",
    "import seaborn as sns\n",
    "import torch\n",
    "import json\n",
    "import sys\n",
    "from pathlib import Path\n",
    "import os\n",
    "import ijson\n",
    "import json\n",
    "\n",
    "\n",
    "# Add the project root directory to Python path\n",
    "project_root = str(Path.cwd().parent) if 'notebooks' in str(Path.cwd()) else str(Path.cwd())\n",
    "if project_root not in sys.path:\n",
    "    sys.path.append(project_root)\n",
    "\n",
    "# Import custom modules\n",
    "from src.preprocessing import load_data, preprocess_data, split_and_save_data\n",
    "from src.model import initialize_model, train_model, save_model, summarize\n",
    "from src.evaluation import calculate_rouge, calculate_bleu\n",
    "from src.visualizations import plot_loss"
   ]
  },
  {
   "cell_type": "code",
   "execution_count": 2,
   "metadata": {},
   "outputs": [
    {
     "name": "stdout",
     "output_type": "stream",
     "text": [
      "Loading raw data...\n",
      "Preprocessing data...\n",
      "Splitting and saving processed data...\n",
      "Train and test datasets saved in ../data/processed\n",
      "Number of articles: 1000000\n",
      "Sample article length: 2226 characters\n",
      "Sample summary length: 0 characters\n"
     ]
    }
   ],
   "source": [
    "# Define paths\n",
    "raw_data_path = r\"C:\\Users\\ELITEBOOK\\OneDrive\\Desktop\\Projects\\TinyLLaMa-Summarization\\data\\raw\\sample.jsonl\"\n",
    "processed_data_dir = \"../data/processed\"\n",
    "\n",
    "# Load and preprocess data\n",
    "print(\"Loading raw data...\")\n",
    "raw_data = load_data(raw_data_path)\n",
    "\n",
    "print(\"Preprocessing data...\")\n",
    "articles, summaries = preprocess_data(raw_data)\n",
    "\n",
    "# Split and save processed data\n",
    "print(\"Splitting and saving processed data...\")\n",
    "split_and_save_data(articles, summaries, output_dir=processed_data_dir)\n",
    "\n",
    "print(f\"Number of articles: {len(articles)}\")\n",
    "print(f\"Sample article length: {len(articles[0])} characters\")\n",
    "print(f\"Sample summary length: {len(summaries[0])} characters\")"
   ]
  },
  {
   "cell_type": "code",
   "execution_count": 3,
   "metadata": {},
   "outputs": [
    {
     "name": "stdout",
     "output_type": "stream",
     "text": [
      "Loading training data...\n",
      "Initializing model...\n",
      "Training model...\n",
      "Epoch 1, No batches processed\n",
      "Epoch 2, No batches processed\n",
      "Epoch 3, No batches processed\n",
      "Epoch 4, No batches processed\n",
      "Epoch 5, No batches processed\n"
     ]
    },
    {
     "data": {
      "image/png": "[encoded data removed]",
      "text/plain": [
       "<Figure size 800x500 with 1 Axes>"
      ]
     },
     "metadata": {},
     "output_type": "display_data"
    }
   ],
   "source": [
    "# Load training data\n",
    "print(\"Loading training data...\")\n",
    "with open(os.path.join(processed_data_dir, \"train.json\"), \"r\") as f:\n",
    "    train_data = []\n",
    "    parser = ijson.parse(f)\n",
    "    for prefix, event, value in parser:\n",
    "        if prefix.endswith('.article'):\n",
    "            article = value\n",
    "            # Find the corresponding summary\n",
    "            summary_prefix = prefix.replace('.article', '.summary')\n",
    "            summary = next((item[2] for item in parser if item[0] == summary_prefix), None)\n",
    "            if summary is not None:\n",
    "                train_data.append({'article': article, 'summary': summary})\n",
    "    train_data = train_data[:100000]  # Limit to 100000 samples\n",
    "\n",
    "# Initialize model\n",
    "print(\"Initializing model...\")\n",
    "model_name = \"TinyLlama/TinyLlama-1.1B-Chat-v1.0\"\n",
    "model, tokenizer = initialize_model(model_name)\n",
    "\n",
    "# Train model\n",
    "print(\"Training model...\")\n",
    "training_stats = train_model(model, tokenizer, train_data, epochs=5)\n",
    "\n",
    "# Plot training loss\n",
    "plot_loss(training_stats['losses'])"
   ]
  },
  {
   "cell_type": "code",
   "execution_count": 4,
   "metadata": {},
   "outputs": [
    {
     "name": "stdout",
     "output_type": "stream",
     "text": [
      "Loading test data...\n",
      "\n",
      "Evaluating model on sample test data:\n",
      "\n",
      "Example 1:\n"
     ]
    },
    {
     "name": "stderr",
     "output_type": "stream",
     "text": [
      "c:\\Users\\ELITEBOOK\\OneDrive\\Desktop\\Projects\\TinyLLaMa-Summarization\\myenv\\Lib\\site-packages\\transformers\\generation\\configuration_utils.py:676: UserWarning: `num_beams` is set to 1. However, `early_stopping` is set to `True` -- this flag is only used in beam-based generation modes. You should set `num_beams>1` or unset `early_stopping`.\n",
      "  warnings.warn(\n"
     ]
    },
    {
     "ename": "ValueError",
     "evalue": "The following `model_kwargs` are not used by the model: ['num_eams'] (note: typos in the generate arguments will also show up in this list)",
     "output_type": "error",
     "traceback": [
      "\u001b[1;31m---------------------------------------------------------------------------\u001b[0m",
      "\u001b[1;31mValueError\u001b[0m                                Traceback (most recent call last)",
      "Cell \u001b[1;32mIn[4], line 15\u001b[0m\n\u001b[0;32m     12\u001b[0m \u001b[38;5;28mprint\u001b[39m(\u001b[38;5;124mf\u001b[39m\u001b[38;5;124m\"\u001b[39m\u001b[38;5;130;01m\\n\u001b[39;00m\u001b[38;5;124mExample \u001b[39m\u001b[38;5;132;01m{\u001b[39;00midx\u001b[38;5;250m \u001b[39m\u001b[38;5;241m+\u001b[39m\u001b[38;5;250m \u001b[39m\u001b[38;5;241m1\u001b[39m\u001b[38;5;132;01m}\u001b[39;00m\u001b[38;5;124m:\u001b[39m\u001b[38;5;124m\"\u001b[39m)\n\u001b[0;32m     14\u001b[0m \u001b[38;5;66;03m# Generate summary\u001b[39;00m\n\u001b[1;32m---> 15\u001b[0m generated_summary \u001b[38;5;241m=\u001b[39m \u001b[43msummarize\u001b[49m\u001b[43m(\u001b[49m\u001b[43mmodel\u001b[49m\u001b[43m,\u001b[49m\u001b[43m \u001b[49m\u001b[43mtokenizer\u001b[49m\u001b[43m,\u001b[49m\u001b[43m \u001b[49m\u001b[43mitem\u001b[49m\u001b[43m[\u001b[49m\u001b[38;5;124;43m'\u001b[39;49m\u001b[38;5;124;43marticle\u001b[39;49m\u001b[38;5;124;43m'\u001b[39;49m\u001b[43m]\u001b[49m\u001b[43m)\u001b[49m\n\u001b[0;32m     17\u001b[0m \u001b[38;5;66;03m# Calculate metrics\u001b[39;00m\n\u001b[0;32m     18\u001b[0m rouge \u001b[38;5;241m=\u001b[39m calculate_rouge(item[\u001b[38;5;124m'\u001b[39m\u001b[38;5;124msummary\u001b[39m\u001b[38;5;124m'\u001b[39m], generated_summary)\n",
      "File \u001b[1;32mc:\\Users\\ELITEBOOK\\OneDrive\\Desktop\\Projects\\TinyLLaMa-Summarization\\src\\model.py:102\u001b[0m, in \u001b[0;36msummarize\u001b[1;34m(model, tokenizer, text, max_length)\u001b[0m\n\u001b[0;32m     89\u001b[0m \u001b[38;5;250m\u001b[39m\u001b[38;5;124;03m\"\"\"\u001b[39;00m\n\u001b[0;32m     90\u001b[0m \u001b[38;5;124;03mGenerate a summary for the given text.\u001b[39;00m\n\u001b[0;32m     91\u001b[0m \u001b[38;5;124;03m\u001b[39;00m\n\u001b[1;32m   (...)\u001b[0m\n\u001b[0;32m     99\u001b[0m \u001b[38;5;124;03mstr: The generated summary.\u001b[39;00m\n\u001b[0;32m    100\u001b[0m \u001b[38;5;124;03m\"\"\"\u001b[39;00m\n\u001b[0;32m    101\u001b[0m inputs \u001b[38;5;241m=\u001b[39m tokenizer(\u001b[38;5;124m\"\u001b[39m\u001b[38;5;124msummarize: \u001b[39m\u001b[38;5;124m\"\u001b[39m \u001b[38;5;241m+\u001b[39m text, return_tensors\u001b[38;5;241m=\u001b[39m\u001b[38;5;124m\"\u001b[39m\u001b[38;5;124mpt\u001b[39m\u001b[38;5;124m\"\u001b[39m, truncation\u001b[38;5;241m=\u001b[39m\u001b[38;5;28;01mTrue\u001b[39;00m)\n\u001b[1;32m--> 102\u001b[0m outputs \u001b[38;5;241m=\u001b[39m \u001b[43mmodel\u001b[49m\u001b[38;5;241;43m.\u001b[39;49m\u001b[43mgenerate\u001b[49m\u001b[43m(\u001b[49m\u001b[43minputs\u001b[49m\u001b[43m,\u001b[49m\u001b[43m \u001b[49m\u001b[43mmax_length\u001b[49m\u001b[38;5;241;43m=\u001b[39;49m\u001b[43mmax_length\u001b[49m\u001b[43m,\u001b[49m\u001b[43m \u001b[49m\u001b[43mnum_eams\u001b[49m\u001b[38;5;241;43m=\u001b[39;49m\u001b[38;5;241;43m4\u001b[39;49m\u001b[43m,\u001b[49m\u001b[43m \u001b[49m\u001b[43mearly_stopping\u001b[49m\u001b[38;5;241;43m=\u001b[39;49m\u001b[38;5;28;43;01mTrue\u001b[39;49;00m\u001b[43m)\u001b[49m\n\u001b[0;32m    103\u001b[0m \u001b[38;5;28;01mreturn\u001b[39;00m tokenizer\u001b[38;5;241m.\u001b[39mdecode(outputs[\u001b[38;5;241m0\u001b[39m], skip_special_tokens\u001b[38;5;241m=\u001b[39m\u001b[38;5;28;01mTrue\u001b[39;00m)\n",
      "File \u001b[1;32mc:\\Users\\ELITEBOOK\\OneDrive\\Desktop\\Projects\\TinyLLaMa-Summarization\\myenv\\Lib\\site-packages\\torch\\utils\\_contextlib.py:116\u001b[0m, in \u001b[0;36mcontext_decorator.<locals>.decorate_context\u001b[1;34m(*args, **kwargs)\u001b[0m\n\u001b[0;32m    113\u001b[0m \u001b[38;5;129m@functools\u001b[39m\u001b[38;5;241m.\u001b[39mwraps(func)\n\u001b[0;32m    114\u001b[0m \u001b[38;5;28;01mdef\u001b[39;00m\u001b[38;5;250m \u001b[39m\u001b[38;5;21mdecorate_context\u001b[39m(\u001b[38;5;241m*\u001b[39margs, \u001b[38;5;241m*\u001b[39m\u001b[38;5;241m*\u001b[39mkwargs):\n\u001b[0;32m    115\u001b[0m     \u001b[38;5;28;01mwith\u001b[39;00m ctx_factory():\n\u001b[1;32m--> 116\u001b[0m         \u001b[38;5;28;01mreturn\u001b[39;00m \u001b[43mfunc\u001b[49m\u001b[43m(\u001b[49m\u001b[38;5;241;43m*\u001b[39;49m\u001b[43margs\u001b[49m\u001b[43m,\u001b[49m\u001b[43m \u001b[49m\u001b[38;5;241;43m*\u001b[39;49m\u001b[38;5;241;43m*\u001b[39;49m\u001b[43mkwargs\u001b[49m\u001b[43m)\u001b[49m\n",
      "File \u001b[1;32mc:\\Users\\ELITEBOOK\\OneDrive\\Desktop\\Projects\\TinyLLaMa-Summarization\\myenv\\Lib\\site-packages\\transformers\\generation\\utils.py:2012\u001b[0m, in \u001b[0;36mGenerationMixin.generate\u001b[1;34m(self, inputs, generation_config, logits_processor, stopping_criteria, prefix_allowed_tokens_fn, synced_gpus, assistant_model, streamer, negative_prompt_ids, negative_prompt_attention_mask, **kwargs)\u001b[0m\n\u001b[0;32m   2009\u001b[0m assistant_tokenizer \u001b[38;5;241m=\u001b[39m kwargs\u001b[38;5;241m.\u001b[39mpop(\u001b[38;5;124m\"\u001b[39m\u001b[38;5;124massistant_tokenizer\u001b[39m\u001b[38;5;124m\"\u001b[39m, \u001b[38;5;28;01mNone\u001b[39;00m)  \u001b[38;5;66;03m# only used for assisted generation\u001b[39;00m\n\u001b[0;32m   2011\u001b[0m generation_config, model_kwargs \u001b[38;5;241m=\u001b[39m \u001b[38;5;28mself\u001b[39m\u001b[38;5;241m.\u001b[39m_prepare_generation_config(generation_config, \u001b[38;5;241m*\u001b[39m\u001b[38;5;241m*\u001b[39mkwargs)\n\u001b[1;32m-> 2012\u001b[0m \u001b[38;5;28;43mself\u001b[39;49m\u001b[38;5;241;43m.\u001b[39;49m\u001b[43m_validate_model_kwargs\u001b[49m\u001b[43m(\u001b[49m\u001b[43mmodel_kwargs\u001b[49m\u001b[38;5;241;43m.\u001b[39;49m\u001b[43mcopy\u001b[49m\u001b[43m(\u001b[49m\u001b[43m)\u001b[49m\u001b[43m)\u001b[49m\n\u001b[0;32m   2013\u001b[0m \u001b[38;5;28mself\u001b[39m\u001b[38;5;241m.\u001b[39m_validate_assistant(assistant_model, tokenizer, assistant_tokenizer)\n\u001b[0;32m   2015\u001b[0m \u001b[38;5;66;03m# 2. Set generation parameters if not already defined\u001b[39;00m\n",
      "File \u001b[1;32mc:\\Users\\ELITEBOOK\\OneDrive\\Desktop\\Projects\\TinyLLaMa-Summarization\\myenv\\Lib\\site-packages\\transformers\\generation\\utils.py:1388\u001b[0m, in \u001b[0;36mGenerationMixin._validate_model_kwargs\u001b[1;34m(self, model_kwargs)\u001b[0m\n\u001b[0;32m   1385\u001b[0m         unused_model_args\u001b[38;5;241m.\u001b[39mappend(key)\n\u001b[0;32m   1387\u001b[0m \u001b[38;5;28;01mif\u001b[39;00m unused_model_args:\n\u001b[1;32m-> 1388\u001b[0m     \u001b[38;5;28;01mraise\u001b[39;00m \u001b[38;5;167;01mValueError\u001b[39;00m(\n\u001b[0;32m   1389\u001b[0m         \u001b[38;5;124mf\u001b[39m\u001b[38;5;124m\"\u001b[39m\u001b[38;5;124mThe following `model_kwargs` are not used by the model: \u001b[39m\u001b[38;5;132;01m{\u001b[39;00munused_model_args\u001b[38;5;132;01m}\u001b[39;00m\u001b[38;5;124m (note: typos in the\u001b[39m\u001b[38;5;124m\"\u001b[39m\n\u001b[0;32m   1390\u001b[0m         \u001b[38;5;124m\"\u001b[39m\u001b[38;5;124m generate arguments will also show up in this list)\u001b[39m\u001b[38;5;124m\"\u001b[39m\n\u001b[0;32m   1391\u001b[0m     )\n",
      "\u001b[1;31mValueError\u001b[0m: The following `model_kwargs` are not used by the model: ['num_eams'] (note: typos in the generate arguments will also show up in this list)"
     ]
    }
   ],
   "source": [
    "# Load test data\n",
    "print(\"Loading test data...\")\n",
    "with open(os.path.join(processed_data_dir, \"test.json\"), \"r\") as f:\n",
    "    test_data = json.load(f)\n",
    "\n",
    "# Evaluate on sample from test set\n",
    "print(\"\\nEvaluating model on sample test data:\")\n",
    "rouge_scores = []\n",
    "bleu_scores = []\n",
    "\n",
    "for idx, item in enumerate(test_data[:5]):  # Evaluate first 5 examples\n",
    "    print(f\"\\nExample {idx + 1}:\")\n",
    "\n",
    "    # Generate summary\n",
    "    generated_summary = summarize(model, tokenizer, item['article'])\n",
    "\n",
    "    # Calculate metrics\n",
    "    rouge = calculate_rouge(item['summary'], generated_summary)\n",
    "    bleu = calculate_bleu(item['summary'], generated_summary)\n",
    "\n",
    "    rouge_scores.append(rouge)\n",
    "    bleu_scores.append(bleu)\n",
    "\n",
    "    print(f\"Article: {item['article'][:200]}...\")\n",
    "    print(f\"Generated Summary: {generated_summary}\")\n",
    "    print(f\"Reference Summary: {item['summary']}\")\n",
    "    print(f\"ROUGE Scores: {rouge}\")\n",
    "    print(f\"BLEU Score: {bleu}\")\n",
    "\n",
    "# Calculate and display average scores\n",
    "avg_rouge1 = np.mean([score['rouge1'].fmeasure for score in rouge_scores])\n",
    "avg_rouge2 = np.mean([score['rouge2'].fmeasure for score in rouge_scores])\n",
    "avg_rougeL = np.mean([score['rougeL'].fmeasure for score in rouge_scores])\n",
    "avg_bleu = np.mean(bleu_scores)\n",
    "\n",
    "print(\"\\nAverage Scores:\")\n",
    "print(f\"ROUGE-1: {avg_rouge1:.4f}\")\n",
    "print(f\"ROUGE-2: {avg_rouge2:.4f}\")\n",
    "print(f\"ROUGE-L: {avg_rougeL:.4f}\")\n",
    "print(f\"BLEU: {avg_bleu:.4f}\")\n"
   ]
  },
  {
   "cell_type": "code",
   "execution_count": null,
   "metadata": {},
   "outputs": [],
   "source": [
    "# Create results dictionary\n",
    "results = {\n",
    "    'average_scores': {\n",
    "        'rouge1': avg_rouge1,\n",
    "        'rouge2': avg_rouge2,\n",
    "        'rougeL': avg_rougeL,\n",
    "        'bleu': avg_bleu\n",
    "    },\n",
    "    'example_predictions': [\n",
    "        {\n",
    "            'article': item['article'],\n",
    "            'reference_summary': item['summary'],\n",
    "            'generated_summary': summarizer.summarize(item['article']),\n",
    "        }\n",
    "        for item in test_data[:5]\n",
    "    ]\n",
    "}\n",
    "\n",
    "# Save results\n",
    "os.makedirs('../reports', exist_ok=True)\n",
    "with open('../reports/evaluation_results.json', 'w') as f:\n",
    "    json.dump(results, f, indent=2)\n",
    "\n",
    "print(\"Evaluation results saved to reports/evaluation_results.json\")"
   ]
  },
  {
   "cell_type": "code",
   "execution_count": null,
   "metadata": {},
   "outputs": [],
   "source": [
    "\n",
    "# Save model\n",
    "print(\"Saving model...\")\n",
    "save_model(model, tokenizer, \"../models/tiny-llama-model\")"
   ]
  }
 ],
 "metadata": {
  "kernelspec": {
   "display_name": "myenv",
   "language": "python",
   "name": "python3"
  },
  "language_info": {
   "codemirror_mode": {
    "name": "ipython",
    "version": 3
   },
   "file_extension": ".py",
   "mimetype": "text/x-python",
   "name": "python",
   "nbconvert_exporter": "python",
   "pygments_lexer": "ipython3",
   "version": "3.12.8"
  }
 },
 "nbformat": 4,
 "nbformat_minor": 2
}
