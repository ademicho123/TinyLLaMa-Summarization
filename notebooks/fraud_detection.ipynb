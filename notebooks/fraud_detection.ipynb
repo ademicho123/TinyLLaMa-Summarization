{
 "cells": [
  {
   "cell_type": "code",
   "execution_count": 17,
   "metadata": {},
   "outputs": [],
   "source": [
    "# First cell with corrected imports\n",
    "import pandas as pd\n",
    "import numpy as np\n",
    "import matplotlib.pyplot as plt\n",
    "import seaborn as sns\n",
    "sns.set()\n",
    "import torch\n",
    "import sys\n",
    "from pathlib import Path\n",
    "import os\n",
    "\n",
    "# Add the project root directory to Python path\n",
    "project_root = str(Path.cwd().parent) if 'notebooks' in str(Path.cwd()) else str(Path.cwd())\n",
    "if project_root not in sys.path:\n",
    "    sys.path.append(project_root)\n",
    "\n",
    "# Import custom functions\n",
    "from src.preprocessing import preprocess_data\n",
    "from src.plots import plot_distributions, plot_correlations, plot_learning_curves\n",
    "from src.model import EnhancedFraudDetector, train_model\n",
    "\n",
    "\n"
   ]
  },
  {
   "cell_type": "code",
   "execution_count": 18,
   "metadata": {},
   "outputs": [
    {
     "name": "stdout",
     "output_type": "stream",
     "text": [
      "Dataset Shape: (568630, 31)\n",
      "\n",
      "Feature Information:\n",
      "<class 'pandas.core.frame.DataFrame'>\n",
      "RangeIndex: 568630 entries, 0 to 568629\n",
      "Data columns (total 31 columns):\n",
      " #   Column  Non-Null Count   Dtype  \n",
      "---  ------  --------------   -----  \n",
      " 0   id      568630 non-null  int64  \n",
      " 1   V1      568630 non-null  float64\n",
      " 2   V2      568630 non-null  float64\n",
      " 3   V3      568630 non-null  float64\n",
      " 4   V4      568630 non-null  float64\n",
      " 5   V5      568630 non-null  float64\n",
      " 6   V6      568630 non-null  float64\n",
      " 7   V7      568630 non-null  float64\n",
      " 8   V8      568630 non-null  float64\n",
      " 9   V9      568630 non-null  float64\n",
      " 10  V10     568630 non-null  float64\n",
      " 11  V11     568630 non-null  float64\n",
      " 12  V12     568630 non-null  float64\n",
      " 13  V13     568630 non-null  float64\n",
      " 14  V14     568630 non-null  float64\n",
      " 15  V15     568630 non-null  float64\n",
      " 16  V16     568630 non-null  float64\n",
      " 17  V17     568630 non-null  float64\n",
      " 18  V18     568630 non-null  float64\n",
      " 19  V19     568630 non-null  float64\n",
      " 20  V20     568630 non-null  float64\n",
      " 21  V21     568630 non-null  float64\n",
      " 22  V22     568630 non-null  float64\n",
      " 23  V23     568630 non-null  float64\n",
      " 24  V24     568630 non-null  float64\n",
      " 25  V25     568630 non-null  float64\n",
      " 26  V26     568630 non-null  float64\n",
      " 27  V27     568630 non-null  float64\n",
      " 28  V28     568630 non-null  float64\n",
      " 29  Amount  568630 non-null  float64\n",
      " 30  Class   568630 non-null  int64  \n",
      "dtypes: float64(29), int64(2)\n",
      "memory usage: 134.5 MB\n",
      "\n",
      "Missing Values:\n",
      "id        0\n",
      "V1        0\n",
      "V2        0\n",
      "V3        0\n",
      "V4        0\n",
      "V5        0\n",
      "V6        0\n",
      "V7        0\n",
      "V8        0\n",
      "V9        0\n",
      "V10       0\n",
      "V11       0\n",
      "V12       0\n",
      "V13       0\n",
      "V14       0\n",
      "V15       0\n",
      "V16       0\n",
      "V17       0\n",
      "V18       0\n",
      "V19       0\n",
      "V20       0\n",
      "V21       0\n",
      "V22       0\n",
      "V23       0\n",
      "V24       0\n",
      "V25       0\n",
      "V26       0\n",
      "V27       0\n",
      "V28       0\n",
      "Amount    0\n",
      "Class     0\n",
      "dtype: int64\n",
      "\n",
      "Class Distribution:\n",
      "Class\n",
      "0    0.5\n",
      "1    0.5\n",
      "Name: proportion, dtype: float64\n"
     ]
    }
   ],
   "source": [
    "# Load the dataset\n",
    "data = pd.read_csv(r\"C:\\Users\\ELITEBOOK\\OneDrive\\Desktop\\Projects\\Fraud-Detection-System\\data\\raw\\creditcard_2023.csv\")\n",
    "\n",
    "# Display basic information\n",
    "print(\"Dataset Shape:\", data.shape)\n",
    "print(\"\\nFeature Information:\")\n",
    "data.info()\n",
    "\n",
    "# Check for missing values\n",
    "print(\"\\nMissing Values:\")\n",
    "print(data.isnull().sum())\n",
    "\n",
    "# Display class distribution\n",
    "print(\"\\nClass Distribution:\")\n",
    "class_dist = data['Class'].value_counts(normalize=True)\n",
    "print(class_dist)"
   ]
  },
  {
   "cell_type": "code",
   "execution_count": 19,
   "metadata": {},
   "outputs": [
    {
     "data": {
      "text/plain": [
       "<Figure size 1500x1000 with 0 Axes>"
      ]
     },
     "metadata": {},
     "output_type": "display_data"
    }
   ],
   "source": [
    "# Plot feature distributions\n",
    "plt.figure(figsize=(15, 10))\n",
    "plot_distributions(data)\n",
    "plt.tight_layout()\n",
    "\n",
    "# Save the file in the reports folder\n",
    "reports_dir = r'C:\\Users\\ELITEBOOK\\OneDrive\\Desktop\\Projects\\Fraud-Detection-System\\reports'\n",
    "file_path = os.path.join(reports_dir, 'feature_distributions.png')\n",
    "plt.savefig(file_path)\n",
    "plt.close()"
   ]
  },
  {
   "cell_type": "code",
   "execution_count": 20,
   "metadata": {},
   "outputs": [
    {
     "data": {
      "text/plain": [
       "<Figure size 1200x800 with 0 Axes>"
      ]
     },
     "metadata": {},
     "output_type": "display_data"
    }
   ],
   "source": [
    "# Plot correlation matrix\n",
    "plt.figure(figsize=(12, 8))\n",
    "plot_correlations(data)\n",
    "plt.tight_layout()\n",
    "\n",
    "# Save the file in the reports folder\n",
    "reports_dir = r'C:\\Users\\ELITEBOOK\\OneDrive\\Desktop\\Projects\\Fraud-Detection-System\\reports'\n",
    "file_path = os.path.join(reports_dir, 'correlation_matrix.png')\n",
    "plt.savefig(file_path)\n",
    "plt.close()"
   ]
  },
  {
   "cell_type": "code",
   "execution_count": 22,
   "metadata": {},
   "outputs": [
    {
     "name": "stdout",
     "output_type": "stream",
     "text": [
      "Training set shape: (454904, 30)\n",
      "Testing set shape: (113726, 30)\n",
      "\n",
      "Training set class distribution:\n",
      "Class\n",
      "0    0.5\n",
      "1    0.5\n",
      "Name: proportion, dtype: float64\n",
      "\n",
      "Test set class distribution:\n",
      "Class\n",
      "1    0.5\n",
      "0    0.5\n",
      "Name: proportion, dtype: float64\n"
     ]
    }
   ],
   "source": [
    "# Preprocess the data\n",
    "X_train, X_test, y_train, y_test = preprocess_data(data)\n",
    "\n",
    "# Save processed datasets\n",
    "processed_dir = r'C:\\Users\\ELITEBOOK\\OneDrive\\Desktop\\Projects\\Fraud-Detection-System\\reports'\n",
    "X_train.to_csv(os.path.join(processed_dir, 'X_train.csv'), index=False)\n",
    "X_test.to_csv(os.path.join(processed_dir, 'X_test.csv'), index=False)\n",
    "y_train.to_csv(os.path.join(processed_dir, 'y_train.csv'), index=False)\n",
    "y_test.to_csv(os.path.join(processed_dir, 'y_test.csv'), index=False)\n",
    "\n",
    "print(\"Training set shape:\", X_train.shape)\n",
    "print(\"Testing set shape:\", X_test.shape)\n",
    "\n",
    "# Display class balance in train and test sets\n",
    "print(\"\\nTraining set class distribution:\")\n",
    "print(pd.Series(y_train).value_counts(normalize=True))\n",
    "print(\"\\nTest set class distribution:\")\n",
    "print(pd.Series(y_test).value_counts(normalize=True))\n"
   ]
  },
  {
   "cell_type": "code",
   "execution_count": 24,
   "metadata": {},
   "outputs": [
    {
     "name": "stdout",
     "output_type": "stream",
     "text": [
      "Epoch 10/100:\n",
      "Loss: 0.0018\n",
      "Val AUC: 1.0000\n",
      "Epoch 20/100:\n",
      "Loss: 0.0017\n",
      "Val AUC: 1.0000\n",
      "Epoch 30/100:\n",
      "Loss: 0.0015\n",
      "Val AUC: 1.0000\n",
      "Epoch 40/100:\n",
      "Loss: 0.0015\n",
      "Val AUC: 1.0000\n",
      "Epoch 50/100:\n",
      "Loss: 0.0019\n",
      "Val AUC: 1.0000\n",
      "Epoch 60/100:\n",
      "Loss: 0.0015\n",
      "Val AUC: 1.0000\n",
      "Epoch 70/100:\n",
      "Loss: 0.0014\n",
      "Val AUC: 1.0000\n",
      "Epoch 80/100:\n",
      "Loss: 0.0013\n",
      "Val AUC: 1.0000\n",
      "Epoch 90/100:\n",
      "Loss: 0.0015\n",
      "Val AUC: 1.0000\n",
      "Epoch 100/100:\n",
      "Loss: 0.0016\n",
      "Val AUC: 1.0000\n"
     ]
    }
   ],
   "source": [
    "# Train the model\n",
    "model, history = train_model(\n",
    "    X_train, \n",
    "    X_test, \n",
    "    y_train, \n",
    "    y_test,\n",
    "    epochs=100,\n",
    "    batch_size=32\n",
    ")\n",
    "\n",
    "# Plot learning curves\n",
    "plot_learning_curves(history)\n",
    "reports_dir = r'C:\\Users\\ELITEBOOK\\OneDrive\\Desktop\\Projects\\Fraud-Detection-System\\reports'\n",
    "file_path = os.path.join(reports_dir, 'learning_curves.png')\n",
    "plt.savefig(file_path)\n",
    "plt.close()"
   ]
  },
  {
   "cell_type": "code",
   "execution_count": 25,
   "metadata": {},
   "outputs": [
    {
     "name": "stdout",
     "output_type": "stream",
     "text": [
      "\n",
      "Classification Report:\n",
      "              precision    recall  f1-score   support\n",
      "\n",
      "           0       1.00      1.00      1.00     56863\n",
      "           1       1.00      1.00      1.00     56863\n",
      "\n",
      "    accuracy                           1.00    113726\n",
      "   macro avg       1.00      1.00      1.00    113726\n",
      "weighted avg       1.00      1.00      1.00    113726\n",
      "\n",
      "\n",
      "ROC-AUC Score: 0.9999563750335707\n"
     ]
    }
   ],
   "source": [
    "# Evaluate model on test set\n",
    "model.eval()\n",
    "with torch.no_grad():\n",
    "    X_test_tensor = torch.FloatTensor(X_test.values)\n",
    "    y_pred = model(X_test_tensor).squeeze().numpy()\n",
    "    y_pred_binary = (y_pred > 0.5).astype(int)\n",
    "\n",
    "# Calculate and display metrics\n",
    "from sklearn.metrics import classification_report, roc_auc_score, confusion_matrix\n",
    "\n",
    "print(\"\\nClassification Report:\")\n",
    "print(classification_report(y_test, y_pred_binary))\n",
    "\n",
    "print(\"\\nROC-AUC Score:\", roc_auc_score(y_test, y_pred))\n",
    "\n",
    "# Plot confusion matrix\n",
    "plt.figure(figsize=(8, 6))\n",
    "sns.heatmap(\n",
    "    confusion_matrix(y_test, y_pred_binary), \n",
    "    annot=True, \n",
    "    fmt='d',\n",
    "    xticklabels=['Normal', 'Fraud'],\n",
    "    yticklabels=['Normal', 'Fraud']\n",
    ")\n",
    "plt.title('Confusion Matrix')\n",
    "reports_dir = r'C:\\Users\\ELITEBOOK\\OneDrive\\Desktop\\Projects\\Fraud-Detection-System\\reports'\n",
    "file_path = os.path.join(reports_dir, 'confusion_matrix.png')\n",
    "plt.savefig(file_path)\n",
    "plt.close()"
   ]
  },
  {
   "cell_type": "code",
   "execution_count": 26,
   "metadata": {},
   "outputs": [
    {
     "name": "stderr",
     "output_type": "stream",
     "text": [
      "C:\\Users\\ELITEBOOK\\AppData\\Local\\Packages\\PythonSoftwareFoundation.Python.3.12_qbz5n2kfra8p0\\LocalCache\\local-packages\\Python312\\site-packages\\tqdm\\auto.py:21: TqdmWarning: IProgress not found. Please update jupyter and ipywidgets. See https://ipywidgets.readthedocs.io/en/stable/user_install.html\n",
      "  from .autonotebook import tqdm as notebook_tqdm\n"
     ]
    },
    {
     "data": {
      "text/plain": [
       "<Figure size 1000x600 with 0 Axes>"
      ]
     },
     "metadata": {},
     "output_type": "display_data"
    },
    {
     "data": {
      "image/png": "[encoded data removed]",
      "text/plain": [
       "<Figure size 1150x660 with 1 Axes>"
      ]
     },
     "metadata": {},
     "output_type": "display_data"
    }
   ],
   "source": [
    "import shap\n",
    "\n",
    "# Create SHAP explainer\n",
    "background = X_train.sample(100, random_state=42)  # Sample background data\n",
    "explainer = shap.DeepExplainer(model, torch.FloatTensor(background.values))\n",
    "\n",
    "# Calculate SHAP values for a sample of test data\n",
    "test_sample = X_test.sample(1000, random_state=42)\n",
    "shap_values = explainer.shap_values(torch.FloatTensor(test_sample.values))\n",
    "\n",
    "# Plot feature importance\n",
    "plt.figure(figsize=(10, 6))\n",
    "shap.summary_plot(\n",
    "    shap_values, \n",
    "    test_sample, \n",
    "    feature_names=X_test.columns,\n",
    "    plot_type='bar'\n",
    ")\n",
    "plt.tight_layout()\n",
    "reports_dir = r'C:\\Users\\ELITEBOOK\\OneDrive\\Desktop\\Projects\\Fraud-Detection-System\\reports'\n",
    "file_path = os.path.join(reports_dir, 'feature_importance.png')\n",
    "plt.savefig(file_path)\n",
    "plt.close()"
   ]
  },
  {
   "cell_type": "code",
   "execution_count": 28,
   "metadata": {},
   "outputs": [],
   "source": [
    "# Save the trained model\n",
    "models_dir = r'C:\\Users\\ELITEBOOK\\OneDrive\\Desktop\\Projects\\Fraud-Detection-System\\models'\n",
    "file_path = os.path.join(models_dir, 'fraud_detector_model.pth')\n",
    "torch.save(model.state_dict(), file_path)"
   ]
  }
 ],
 "metadata": {
  "kernelspec": {
   "display_name": "Python 3",
   "language": "python",
   "name": "python3"
  },
  "language_info": {
   "codemirror_mode": {
    "name": "ipython",
    "version": 3
   },
   "file_extension": ".py",
   "mimetype": "text/x-python",
   "name": "python",
   "nbconvert_exporter": "python",
   "pygments_lexer": "ipython3",
   "version": "3.12.8"
  }
 },
 "nbformat": 4,
 "nbformat_minor": 2
}
